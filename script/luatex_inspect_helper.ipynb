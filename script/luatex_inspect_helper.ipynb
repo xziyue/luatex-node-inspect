{
 "cells": [
  {
   "cell_type": "code",
   "execution_count": 33,
   "metadata": {},
   "outputs": [],
   "source": [
    "import numpy as np\n",
    "from itertools import product\n",
    "import re"
   ]
  },
  {
   "cell_type": "code",
   "execution_count": 1,
   "metadata": {},
   "outputs": [
    {
     "name": "stdout",
     "output_type": "stream",
     "text": [
      "0:'hlist', 1:'vlist', 2:'rule', 3:'ins', 4:'mark', 5:'adjust', 6:'boundary', 7:'disc', 8:'whatsit', 9:'local_par', 10:'dir', 11:'math', 12:'glue', 13:'kern', 14:'penalty', 15:'unset', 16:'style', 17:'choice', 18:'noad', 19:'radical', 20:'fraction', 21:'accent', 22:'fence', 23:'math_char', 24:'sub_box', 25:'sub_mlist', 26:'math_text_char', 27:'delim', 28:'margin_kern', 29:'glyph', 30:'align_record', 31:'pseudo_file', 32:'pseudo_line', 33:'page_insert', 34:'split_insert', 35:'expr_stack', 36:'nested_list', 37:'span', 38:'attribute', 39:'glue_spec', 40:'attribute_list', 41:'temp', 42:'align_stack', 43:'movement_stack', 44:'if_stack', 45:'unhyphenated', 46:'hyphenated', 47:'delta', 48:'passive', 49:'shape'\n"
     ]
    }
   ],
   "source": [
    "str1 = r'''hlist\n",
    "vlist\n",
    "rule\n",
    "ins\n",
    "mark\n",
    "adjust\n",
    "boundary\n",
    "disc\n",
    "whatsit\n",
    "local_par\n",
    "dir\n",
    "math\n",
    "glue\n",
    "kern\n",
    "penalty\n",
    "unset\n",
    "style\n",
    "choice\n",
    "noad\n",
    "radical\n",
    "fraction\n",
    "accent\n",
    "fence\n",
    "math_char\n",
    "sub_box\n",
    "sub_mlist\n",
    "math_text_char\n",
    "delim\n",
    "margin_kern\n",
    "glyph\n",
    "align_record\n",
    "pseudo_file\n",
    "pseudo_line\n",
    "page_insert\n",
    "split_insert\n",
    "expr_stack\n",
    "nested_list\n",
    "span\n",
    "attribute\n",
    "glue_spec\n",
    "attribute_list\n",
    "temp\n",
    "align_stack\n",
    "movement_stack\n",
    "if_stack\n",
    "unhyphenated\n",
    "hyphenated\n",
    "delta\n",
    "passive\n",
    "shape'''\n",
    "\n",
    "str_out = []\n",
    "node_names = str1.split('\\n')\n",
    "for ind, name in enumerate(node_names):\n",
    "    str_out.append(\"{}:'{}'\".format(ind, name))\n",
    "print(', '.join(str_out))"
   ]
  },
  {
   "cell_type": "code",
   "execution_count": 2,
   "metadata": {},
   "outputs": [
    {
     "name": "stdout",
     "output_type": "stream",
     "text": [
      "0:'unknown', 1:'line', 2:'box', 3:'indent', 4:'alignment', 5:'cell', 6:'equation', 7:'equationnumber', 8:'math', 9:'mathchar', 10:'hextensible', 11:'vextensible', 12:'hdelimiter', 13:'vdelimiter', 14:'overdelimiter', 15:'underdelimiter', 16:'numerator', 17:'denominator', 18:'limits', 19:'fraction', 20:'nucleus', 21:'sup', 22:'sub', 23:'degree', 24:'scripts', 25:'over', 26:'under', 27:'accent', 28:'radical'\n"
     ]
    }
   ],
   "source": [
    "str2 = r'''\n",
    "0 = unknown, 1 = line, 2 = box, 3 = indent, 4 = alignment, 5 = cell,\n",
    "6 = equation, 7 = equationnumber, 8 = math, 9 = mathchar, 10 = hextensible, \n",
    "11 = vextensible, 12 = hdelimiter, 13 = vdelimiter, 14 =overdelimiter, \n",
    "15 = underdelimiter, 16 = numerator, 17 = denominator, 18 = limits, \n",
    "19 = fraction, 20 = nucleus, 21 = sup, 22 = sub,\n",
    "23 = degree, 24 = scripts, 25 = over, 26 = under, 27 = accent, 28 =\n",
    "radical\n",
    "'''\n",
    "\n",
    "def extract_subtype_str(s):\n",
    "    str_out = []\n",
    "    fields = s.strip().split(',')\n",
    "    for i in range(len(fields)):\n",
    "        fields[i] = fields[i].strip()\n",
    "        assert(len(fields[i]) > 0)\n",
    "        l, r = fields[i].split('=')\n",
    "        l, r = l.strip(), r.strip()\n",
    "        str_out.append(\"{}:'{}'\".format(l, r))\n",
    "    print(', '.join(str_out))\n",
    "\n",
    "extract_subtype_str(str2)"
   ]
  },
  {
   "cell_type": "code",
   "execution_count": 3,
   "metadata": {},
   "outputs": [
    {
     "name": "stdout",
     "output_type": "stream",
     "text": [
      "0:'normal', 1:'box', 2:'image', 3:'empty', 4:'user', 5:'over', 6:'under', 7:'fraction', 8:'radical', 9:'outline'\n"
     ]
    }
   ],
   "source": [
    "str3 = r'''\n",
    "0 = normal, 1 = box, 2 = image, 3 = empty, 4 = user, 5 = over, 6 = under,\n",
    "7 = fraction, 8 = radical, 9 = outline\n",
    "'''\n",
    "\n",
    "extract_subtype_str(str3)"
   ]
  },
  {
   "cell_type": "code",
   "execution_count": 4,
   "metadata": {},
   "outputs": [
    {
     "name": "stdout",
     "output_type": "stream",
     "text": [
      "0:'discretionary', 1:'explicit', 2:'automatic', 3:'regular', 4:'first', 5:'second'\n"
     ]
    }
   ],
   "source": [
    "str4 = r'''\n",
    "0 = discretionary, 1 = explicit, 2 = automatic, 3 = regular, 4 = first,\n",
    "5 = second\n",
    "'''\n",
    "\n",
    "extract_subtype_str(str4)"
   ]
  },
  {
   "cell_type": "code",
   "execution_count": 5,
   "metadata": {},
   "outputs": [
    {
     "name": "stdout",
     "output_type": "stream",
     "text": [
      "0:'userskip', 1:'lineskip', 2:'baselineskip', 3:'parskip', 4:'abovedisplayskip', 5:'belowdisplayskip', 6:'abovedisplayshortskip', 7:'belowdisplayshortskip', 8:'leftskip', 9:'rightskip', 10:'topskip', 11:'splittopskip', 12:'tabskip', 13:'spaceskip', 14:'xspaceskip', 15:'parfillskip', 16:'mathskip', 17:'thinmuskip', 18:'medmuskip', 19:'thickmuskip', 98:'conditionalmathskip', 99:'muglue', 100:'leaders', 101:'cleaders', 102:'xleaders', 103:'gleaders'\n"
     ]
    }
   ],
   "source": [
    "str5 = r'''\n",
    "0 = userskip, 1 = lineskip, 2 = baselineskip, 3 = parskip, \n",
    "4 = abovedisplayskip, 5 = belowdisplayskip, 6 = abovedisplayshortskip, 7 = belowdisplayshortskip, \n",
    "8 = leftskip, 9 = rightskip, 10 = topskip, 11 = splittopskip, 12 = tabskip, 13 = spaceskip, \n",
    "14 = xspaceskip, 15 = parfillskip, 16 = mathskip, 17 = thinmuskip, 18 = medmuskip, \n",
    "19 = thickmuskip, 98 = conditionalmathskip, 99 = muglue, 100 = leaders,\n",
    "101 = cleaders, 102 = xleaders, 103 = gleaders\n",
    "'''\n",
    "\n",
    "extract_subtype_str(str5)"
   ]
  },
  {
   "cell_type": "code",
   "execution_count": 6,
   "metadata": {},
   "outputs": [
    {
     "name": "stdout",
     "output_type": "stream",
     "text": [
      "0:'userpenalty', 1:'linebreakpenalty', 2:'linepenalty', 3:'wordpenalty', 4:'finalpenalty', 5:'noadpenalty', 6:'beforedisplaypenalty', 7:'afterdisplaypenalty', 8:'equationnumberpenalty'\n"
     ]
    }
   ],
   "source": [
    "str6 = r'''\n",
    "0 = userpenalty, 1 = linebreakpenalty, 2 = linepenalty, 3 = wordpenalty, 4 = finalpenalty, 5 = noadpenalty, \n",
    "6 = beforedisplaypenalty, 7 = afterdisplaypenalty, 8 = equationnumberpenalty\n",
    "'''\n",
    "\n",
    "extract_subtype_str(str6)"
   ]
  },
  {
   "cell_type": "code",
   "execution_count": 23,
   "metadata": {},
   "outputs": [
    {
     "name": "stdout",
     "output_type": "stream",
     "text": [
      "0:'', 1:'character', 2:'ligature', 3:'ligature+character', 4:'ghost', 5:'ghost+character', 6:'ghost+ligature', 7:'ghost+ligature+character', 8:'left', 9:'left+character', 10:'left+ligature', 11:'left+ligature+character', 12:'left+ghost', 13:'left+ghost+character', 14:'left+ghost+ligature', 15:'left+ghost+ligature+character', 16:'right', 17:'right+character', 18:'right+ligature', 19:'right+ligature+character', 20:'right+ghost', 21:'right+ghost+character', 22:'right+ghost+ligature', 23:'right+ghost+ligature+character', 24:'right+left', 25:'right+left+character', 26:'right+left+ligature', 27:'right+left+ligature+character', 28:'right+left+ghost', 29:'right+left+ghost+character', 30:'right+left+ghost+ligature', 31:'right+left+ghost+ligature+character'\n"
     ]
    }
   ],
   "source": [
    "power_array = np.flip(np.power(2, np.arange(5)))\n",
    "string_array = np.asarray(['right', 'left', 'ghost', 'ligature', 'character'])\n",
    "out_str = []\n",
    "for case in product([0,1], repeat=5):\n",
    "    case = np.asarray(case)\n",
    "    correspond_int = np.sum(case * power_array)\n",
    "    good_ind = np.where(case == 1)[0]\n",
    "    chosen_str = string_array[good_ind]\n",
    "    out_str.append(\"{}:'{}'\".format(correspond_int, '+'.join(chosen_str)))\n",
    "print(', '.join(out_str))"
   ]
  },
  {
   "cell_type": "code",
   "execution_count": 26,
   "metadata": {},
   "outputs": [
    {
     "name": "stdout",
     "output_type": "stream",
     "text": [
      "{8: 'set/internal', 9: 'internal', 10: 'axis', 12: 'no axis', 24: 'exact', 25: 'left', 26: 'middle', 28: 'right', 41: 'no sub script', 42: 'no super script', 43: 'no script'}\n"
     ]
    }
   ],
   "source": [
    "math_options = {\n",
    "    0x08: 'set/internal',\n",
    "    0x01+0x08: 'internal',\n",
    "    0x02+0x08: 'axis',\n",
    "    0x04+0x08: 'no axis',\n",
    "    0x10+0x08: 'exact',\n",
    "    0x11+0x08: 'left',\n",
    "    0x12+0x08: 'middle',\n",
    "    0x14+0x08: 'right',\n",
    "    0x21+0x08: 'no sub script',\n",
    "    0x22+0x08: 'no super script',\n",
    "    0x23+0x08: 'no script'\n",
    "}\n",
    "\n",
    "print(math_options)"
   ]
  },
  {
   "cell_type": "code",
   "execution_count": 27,
   "metadata": {},
   "outputs": [
    {
     "name": "stdout",
     "output_type": "stream",
     "text": [
      "0:'ord', 1:'opdisplaylimits', 2:'oplimits', 3:'opnolimits', 4:'bin', 5:'rel', 6:'open', 7:'close', 8:'punct', 9:'inner', 10:'under', 11:'over', 12:'vcenter'\n"
     ]
    }
   ],
   "source": [
    "str7 = r'''\n",
    "0 = ord, 1 = opdisplaylimits, 2 = oplimits, 3 = opnolimits, 4 = bin,\n",
    "5 = rel, 6 = open, 7 = close, 8 = punct, 9 = inner, 10 = under, 11 =\n",
    "over, 12 = vcenter\n",
    "'''\n",
    "\n",
    "extract_subtype_str(str7)"
   ]
  },
  {
   "cell_type": "code",
   "execution_count": 28,
   "metadata": {},
   "outputs": [
    {
     "name": "stdout",
     "output_type": "stream",
     "text": [
      "0:'bothflexible', 1:'fixedtop', 2:'fixedbottom', 3:'fixedboth'\n"
     ]
    }
   ],
   "source": [
    "str8 = r'''\n",
    " 0 = bothflexible, 1 = fixedtop, 2 = fixedbottom, 3 = fixedboth\n",
    "'''\n",
    "\n",
    "extract_subtype_str(str8)"
   ]
  },
  {
   "cell_type": "code",
   "execution_count": 29,
   "metadata": {},
   "outputs": [
    {
     "name": "stdout",
     "output_type": "stream",
     "text": [
      "0:'radical', 1:'uradical', 2:'uroot', 3:'uunderdelimiter', 4:'uoverdelimiter', 5:'udelimiterunder', 6:'udelimiterover'\n"
     ]
    }
   ],
   "source": [
    "str9 = r'''\n",
    "0 = radical, 1 = uradical, 2 = uroot, 3 = uunderdelimiter, 4 =\n",
    "uoverdelimiter, 5 = udelimiterunder, 6 = udelimiterover\n",
    "'''\n",
    "\n",
    "extract_subtype_str(str9)"
   ]
  },
  {
   "cell_type": "code",
   "execution_count": 38,
   "metadata": {},
   "outputs": [
    {
     "name": "stdout",
     "output_type": "stream",
     "text": [
      "{'0': 'open', '1': 'write', '2': 'close', '3': 'special', '6': 'save_pos', '7': 'late_lua', '8': 'user_defined', '16': 'pdf_literal', '17': 'pdf_refobj', '18': 'pdf_annot', '19': 'pdf_start_link', '20': 'pdf_end_link', '21': 'pdf_dest', '22': 'pdf_action', '23': 'pdf_thread', '24': 'pdf_start_thread', '25': 'pdf_end_thread', '26': 'pdf_thread_data', '27': 'pdf_link_data', '28': 'pdf_colorstack', '29': 'pdf_setmatrix', '30': 'pdf_save', '31': 'pdf_restore'}\n"
     ]
    }
   ],
   "source": [
    "str10 = '''\n",
    "open (0), write (1), close (2), special (3), save_pos (6), late_lua (7), user_defined (8),\n",
    "pdf_literal (16), pdf_refobj (17), pdf_annot (18), pdf_start_link (19), pdf_end_link (20),\n",
    "pdf_dest (21), pdf_action (22), pdf_thread (23), pdf_start_thread (24), pdf_end_thread\n",
    "(25), pdf_thread_data (26), pdf_link_data (27), pdf_colorstack (28), pdf_setmatrix (29),\n",
    "pdf_save (30), pdf_restore (31)\n",
    "'''\n",
    "str10 = str10.replace('\\n', '')\n",
    "segs = str10.split(',')\n",
    "out_dict = dict()\n",
    "for seg in segs:\n",
    "    seg = seg.strip()\n",
    "    seg = seg.replace(' ', '')\n",
    "    match = re.match('(.*?)\\((.*?)\\)', seg)\n",
    "    s, n = match.group(1), match.group(2)\n",
    "    out_dict[n] = s\n",
    "print(out_dict)"
   ]
  },
  {
   "cell_type": "code",
   "execution_count": null,
   "metadata": {},
   "outputs": [],
   "source": []
  }
 ],
 "metadata": {
  "kernelspec": {
   "display_name": "Python 3",
   "language": "python",
   "name": "python3"
  },
  "language_info": {
   "codemirror_mode": {
    "name": "ipython",
    "version": 3
   },
   "file_extension": ".py",
   "mimetype": "text/x-python",
   "name": "python",
   "nbconvert_exporter": "python",
   "pygments_lexer": "ipython3",
   "version": "3.8.3"
  }
 },
 "nbformat": 4,
 "nbformat_minor": 4
}
